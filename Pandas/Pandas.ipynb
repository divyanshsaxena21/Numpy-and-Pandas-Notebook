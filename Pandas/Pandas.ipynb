{
 "cells": [
  {
   "cell_type": "code",
   "execution_count": 1,
   "id": "bdbc8d35",
   "metadata": {},
   "outputs": [],
   "source": [
    "import pandas as pd\n",
    "import numpy as np"
   ]
  },
  {
   "cell_type": "code",
   "execution_count": 2,
   "id": "0dd4e5f4",
   "metadata": {},
   "outputs": [
    {
     "ename": "FileNotFoundError",
     "evalue": "[Errno 2] No such file or directory: 'matches - matches.csv'",
     "output_type": "error",
     "traceback": [
      "\u001b[1;31m---------------------------------------------------------------------------\u001b[0m",
      "\u001b[1;31mFileNotFoundError\u001b[0m                         Traceback (most recent call last)",
      "Cell \u001b[1;32mIn[2], line 1\u001b[0m\n\u001b[1;32m----> 1\u001b[0m data \u001b[38;5;241m=\u001b[39m pd\u001b[38;5;241m.\u001b[39mread_csv(\u001b[38;5;124m'\u001b[39m\u001b[38;5;124mmatches - matches.csv\u001b[39m\u001b[38;5;124m'\u001b[39m)\n",
      "File \u001b[1;32m~\\anaconda3\\Lib\\site-packages\\pandas\\io\\parsers\\readers.py:1026\u001b[0m, in \u001b[0;36mread_csv\u001b[1;34m(filepath_or_buffer, sep, delimiter, header, names, index_col, usecols, dtype, engine, converters, true_values, false_values, skipinitialspace, skiprows, skipfooter, nrows, na_values, keep_default_na, na_filter, verbose, skip_blank_lines, parse_dates, infer_datetime_format, keep_date_col, date_parser, date_format, dayfirst, cache_dates, iterator, chunksize, compression, thousands, decimal, lineterminator, quotechar, quoting, doublequote, escapechar, comment, encoding, encoding_errors, dialect, on_bad_lines, delim_whitespace, low_memory, memory_map, float_precision, storage_options, dtype_backend)\u001b[0m\n\u001b[0;32m   1013\u001b[0m kwds_defaults \u001b[38;5;241m=\u001b[39m _refine_defaults_read(\n\u001b[0;32m   1014\u001b[0m     dialect,\n\u001b[0;32m   1015\u001b[0m     delimiter,\n\u001b[1;32m   (...)\u001b[0m\n\u001b[0;32m   1022\u001b[0m     dtype_backend\u001b[38;5;241m=\u001b[39mdtype_backend,\n\u001b[0;32m   1023\u001b[0m )\n\u001b[0;32m   1024\u001b[0m kwds\u001b[38;5;241m.\u001b[39mupdate(kwds_defaults)\n\u001b[1;32m-> 1026\u001b[0m \u001b[38;5;28;01mreturn\u001b[39;00m _read(filepath_or_buffer, kwds)\n",
      "File \u001b[1;32m~\\anaconda3\\Lib\\site-packages\\pandas\\io\\parsers\\readers.py:620\u001b[0m, in \u001b[0;36m_read\u001b[1;34m(filepath_or_buffer, kwds)\u001b[0m\n\u001b[0;32m    617\u001b[0m _validate_names(kwds\u001b[38;5;241m.\u001b[39mget(\u001b[38;5;124m\"\u001b[39m\u001b[38;5;124mnames\u001b[39m\u001b[38;5;124m\"\u001b[39m, \u001b[38;5;28;01mNone\u001b[39;00m))\n\u001b[0;32m    619\u001b[0m \u001b[38;5;66;03m# Create the parser.\u001b[39;00m\n\u001b[1;32m--> 620\u001b[0m parser \u001b[38;5;241m=\u001b[39m TextFileReader(filepath_or_buffer, \u001b[38;5;241m*\u001b[39m\u001b[38;5;241m*\u001b[39mkwds)\n\u001b[0;32m    622\u001b[0m \u001b[38;5;28;01mif\u001b[39;00m chunksize \u001b[38;5;129;01mor\u001b[39;00m iterator:\n\u001b[0;32m    623\u001b[0m     \u001b[38;5;28;01mreturn\u001b[39;00m parser\n",
      "File \u001b[1;32m~\\anaconda3\\Lib\\site-packages\\pandas\\io\\parsers\\readers.py:1620\u001b[0m, in \u001b[0;36mTextFileReader.__init__\u001b[1;34m(self, f, engine, **kwds)\u001b[0m\n\u001b[0;32m   1617\u001b[0m     \u001b[38;5;28mself\u001b[39m\u001b[38;5;241m.\u001b[39moptions[\u001b[38;5;124m\"\u001b[39m\u001b[38;5;124mhas_index_names\u001b[39m\u001b[38;5;124m\"\u001b[39m] \u001b[38;5;241m=\u001b[39m kwds[\u001b[38;5;124m\"\u001b[39m\u001b[38;5;124mhas_index_names\u001b[39m\u001b[38;5;124m\"\u001b[39m]\n\u001b[0;32m   1619\u001b[0m \u001b[38;5;28mself\u001b[39m\u001b[38;5;241m.\u001b[39mhandles: IOHandles \u001b[38;5;241m|\u001b[39m \u001b[38;5;28;01mNone\u001b[39;00m \u001b[38;5;241m=\u001b[39m \u001b[38;5;28;01mNone\u001b[39;00m\n\u001b[1;32m-> 1620\u001b[0m \u001b[38;5;28mself\u001b[39m\u001b[38;5;241m.\u001b[39m_engine \u001b[38;5;241m=\u001b[39m \u001b[38;5;28mself\u001b[39m\u001b[38;5;241m.\u001b[39m_make_engine(f, \u001b[38;5;28mself\u001b[39m\u001b[38;5;241m.\u001b[39mengine)\n",
      "File \u001b[1;32m~\\anaconda3\\Lib\\site-packages\\pandas\\io\\parsers\\readers.py:1880\u001b[0m, in \u001b[0;36mTextFileReader._make_engine\u001b[1;34m(self, f, engine)\u001b[0m\n\u001b[0;32m   1878\u001b[0m     \u001b[38;5;28;01mif\u001b[39;00m \u001b[38;5;124m\"\u001b[39m\u001b[38;5;124mb\u001b[39m\u001b[38;5;124m\"\u001b[39m \u001b[38;5;129;01mnot\u001b[39;00m \u001b[38;5;129;01min\u001b[39;00m mode:\n\u001b[0;32m   1879\u001b[0m         mode \u001b[38;5;241m+\u001b[39m\u001b[38;5;241m=\u001b[39m \u001b[38;5;124m\"\u001b[39m\u001b[38;5;124mb\u001b[39m\u001b[38;5;124m\"\u001b[39m\n\u001b[1;32m-> 1880\u001b[0m \u001b[38;5;28mself\u001b[39m\u001b[38;5;241m.\u001b[39mhandles \u001b[38;5;241m=\u001b[39m get_handle(\n\u001b[0;32m   1881\u001b[0m     f,\n\u001b[0;32m   1882\u001b[0m     mode,\n\u001b[0;32m   1883\u001b[0m     encoding\u001b[38;5;241m=\u001b[39m\u001b[38;5;28mself\u001b[39m\u001b[38;5;241m.\u001b[39moptions\u001b[38;5;241m.\u001b[39mget(\u001b[38;5;124m\"\u001b[39m\u001b[38;5;124mencoding\u001b[39m\u001b[38;5;124m\"\u001b[39m, \u001b[38;5;28;01mNone\u001b[39;00m),\n\u001b[0;32m   1884\u001b[0m     compression\u001b[38;5;241m=\u001b[39m\u001b[38;5;28mself\u001b[39m\u001b[38;5;241m.\u001b[39moptions\u001b[38;5;241m.\u001b[39mget(\u001b[38;5;124m\"\u001b[39m\u001b[38;5;124mcompression\u001b[39m\u001b[38;5;124m\"\u001b[39m, \u001b[38;5;28;01mNone\u001b[39;00m),\n\u001b[0;32m   1885\u001b[0m     memory_map\u001b[38;5;241m=\u001b[39m\u001b[38;5;28mself\u001b[39m\u001b[38;5;241m.\u001b[39moptions\u001b[38;5;241m.\u001b[39mget(\u001b[38;5;124m\"\u001b[39m\u001b[38;5;124mmemory_map\u001b[39m\u001b[38;5;124m\"\u001b[39m, \u001b[38;5;28;01mFalse\u001b[39;00m),\n\u001b[0;32m   1886\u001b[0m     is_text\u001b[38;5;241m=\u001b[39mis_text,\n\u001b[0;32m   1887\u001b[0m     errors\u001b[38;5;241m=\u001b[39m\u001b[38;5;28mself\u001b[39m\u001b[38;5;241m.\u001b[39moptions\u001b[38;5;241m.\u001b[39mget(\u001b[38;5;124m\"\u001b[39m\u001b[38;5;124mencoding_errors\u001b[39m\u001b[38;5;124m\"\u001b[39m, \u001b[38;5;124m\"\u001b[39m\u001b[38;5;124mstrict\u001b[39m\u001b[38;5;124m\"\u001b[39m),\n\u001b[0;32m   1888\u001b[0m     storage_options\u001b[38;5;241m=\u001b[39m\u001b[38;5;28mself\u001b[39m\u001b[38;5;241m.\u001b[39moptions\u001b[38;5;241m.\u001b[39mget(\u001b[38;5;124m\"\u001b[39m\u001b[38;5;124mstorage_options\u001b[39m\u001b[38;5;124m\"\u001b[39m, \u001b[38;5;28;01mNone\u001b[39;00m),\n\u001b[0;32m   1889\u001b[0m )\n\u001b[0;32m   1890\u001b[0m \u001b[38;5;28;01massert\u001b[39;00m \u001b[38;5;28mself\u001b[39m\u001b[38;5;241m.\u001b[39mhandles \u001b[38;5;129;01mis\u001b[39;00m \u001b[38;5;129;01mnot\u001b[39;00m \u001b[38;5;28;01mNone\u001b[39;00m\n\u001b[0;32m   1891\u001b[0m f \u001b[38;5;241m=\u001b[39m \u001b[38;5;28mself\u001b[39m\u001b[38;5;241m.\u001b[39mhandles\u001b[38;5;241m.\u001b[39mhandle\n",
      "File \u001b[1;32m~\\anaconda3\\Lib\\site-packages\\pandas\\io\\common.py:873\u001b[0m, in \u001b[0;36mget_handle\u001b[1;34m(path_or_buf, mode, encoding, compression, memory_map, is_text, errors, storage_options)\u001b[0m\n\u001b[0;32m    868\u001b[0m \u001b[38;5;28;01melif\u001b[39;00m \u001b[38;5;28misinstance\u001b[39m(handle, \u001b[38;5;28mstr\u001b[39m):\n\u001b[0;32m    869\u001b[0m     \u001b[38;5;66;03m# Check whether the filename is to be opened in binary mode.\u001b[39;00m\n\u001b[0;32m    870\u001b[0m     \u001b[38;5;66;03m# Binary mode does not support 'encoding' and 'newline'.\u001b[39;00m\n\u001b[0;32m    871\u001b[0m     \u001b[38;5;28;01mif\u001b[39;00m ioargs\u001b[38;5;241m.\u001b[39mencoding \u001b[38;5;129;01mand\u001b[39;00m \u001b[38;5;124m\"\u001b[39m\u001b[38;5;124mb\u001b[39m\u001b[38;5;124m\"\u001b[39m \u001b[38;5;129;01mnot\u001b[39;00m \u001b[38;5;129;01min\u001b[39;00m ioargs\u001b[38;5;241m.\u001b[39mmode:\n\u001b[0;32m    872\u001b[0m         \u001b[38;5;66;03m# Encoding\u001b[39;00m\n\u001b[1;32m--> 873\u001b[0m         handle \u001b[38;5;241m=\u001b[39m \u001b[38;5;28mopen\u001b[39m(\n\u001b[0;32m    874\u001b[0m             handle,\n\u001b[0;32m    875\u001b[0m             ioargs\u001b[38;5;241m.\u001b[39mmode,\n\u001b[0;32m    876\u001b[0m             encoding\u001b[38;5;241m=\u001b[39mioargs\u001b[38;5;241m.\u001b[39mencoding,\n\u001b[0;32m    877\u001b[0m             errors\u001b[38;5;241m=\u001b[39merrors,\n\u001b[0;32m    878\u001b[0m             newline\u001b[38;5;241m=\u001b[39m\u001b[38;5;124m\"\u001b[39m\u001b[38;5;124m\"\u001b[39m,\n\u001b[0;32m    879\u001b[0m         )\n\u001b[0;32m    880\u001b[0m     \u001b[38;5;28;01melse\u001b[39;00m:\n\u001b[0;32m    881\u001b[0m         \u001b[38;5;66;03m# Binary mode\u001b[39;00m\n\u001b[0;32m    882\u001b[0m         handle \u001b[38;5;241m=\u001b[39m \u001b[38;5;28mopen\u001b[39m(handle, ioargs\u001b[38;5;241m.\u001b[39mmode)\n",
      "\u001b[1;31mFileNotFoundError\u001b[0m: [Errno 2] No such file or directory: 'matches - matches.csv'"
     ]
    }
   ],
   "source": [
    "data = pd.read_csv('matches - matches.csv')"
   ]
  },
  {
   "cell_type": "code",
   "execution_count": null,
   "id": "b291700e",
   "metadata": {},
   "outputs": [],
   "source": [
    "type(data)"
   ]
  },
  {
   "cell_type": "code",
   "execution_count": null,
   "id": "c2c7fedc",
   "metadata": {},
   "outputs": [],
   "source": [
    "data.head()"
   ]
  },
  {
   "cell_type": "code",
   "execution_count": null,
   "id": "1a5d57ec",
   "metadata": {},
   "outputs": [],
   "source": [
    "data.tail()"
   ]
  },
  {
   "cell_type": "code",
   "execution_count": null,
   "id": "7a8fd5c7",
   "metadata": {},
   "outputs": [],
   "source": [
    "data.shape"
   ]
  },
  {
   "cell_type": "code",
   "execution_count": null,
   "id": "f330df7a",
   "metadata": {},
   "outputs": [],
   "source": [
    "data.info()"
   ]
  },
  {
   "cell_type": "code",
   "execution_count": null,
   "id": "6195b3e0",
   "metadata": {},
   "outputs": [],
   "source": [
    "data.describe()"
   ]
  },
  {
   "cell_type": "code",
   "execution_count": null,
   "id": "51eed5ea",
   "metadata": {},
   "outputs": [],
   "source": [
    "data['winner']"
   ]
  },
  {
   "cell_type": "code",
   "execution_count": null,
   "id": "5be2c34f",
   "metadata": {},
   "outputs": [],
   "source": [
    "data[['team1','team2','winner']]"
   ]
  },
  {
   "cell_type": "code",
   "execution_count": null,
   "id": "821ed5de",
   "metadata": {},
   "outputs": [],
   "source": [
    "data.iloc[0]"
   ]
  },
  {
   "cell_type": "code",
   "execution_count": null,
   "id": "985416b9",
   "metadata": {},
   "outputs": [],
   "source": [
    "data.iloc[1:11:2]"
   ]
  },
  {
   "cell_type": "code",
   "execution_count": null,
   "id": "d93b72dd",
   "metadata": {},
   "outputs": [],
   "source": [
    "data.iloc[[1,5,6]] #fancy indexing"
   ]
  },
  {
   "cell_type": "code",
   "execution_count": null,
   "id": "0e4badbe",
   "metadata": {},
   "outputs": [],
   "source": [
    "data.iloc[:,[4,5,10]] # before , we give the row values and after , we give column values to be fetched"
   ]
  },
  {
   "cell_type": "code",
   "execution_count": null,
   "id": "2c55b38f",
   "metadata": {},
   "outputs": [],
   "source": [
    "mask = data['city'] == 'Hyderabad'\n",
    "data[mask].shape[0]"
   ]
  },
  {
   "cell_type": "code",
   "execution_count": null,
   "id": "f21dd111",
   "metadata": {},
   "outputs": [],
   "source": [
    "def get_city_match_count(city):\n",
    "    mask = data['city'] == city\n",
    "    return data[mask].shape[0]"
   ]
  },
  {
   "cell_type": "code",
   "execution_count": null,
   "id": "f3451d05",
   "metadata": {},
   "outputs": [],
   "source": [
    "get_city_match_count('Rajkot')"
   ]
  },
  {
   "cell_type": "code",
   "execution_count": null,
   "id": "1ef59743",
   "metadata": {},
   "outputs": [],
   "source": [
    "mask1 = data['city'] == 'Hyderabad'\n",
    "mask2 = data['date']>'2010-01-01'\n",
    "\n",
    "data[mask1 & mask2].shape[0]"
   ]
  },
  {
   "cell_type": "code",
   "execution_count": null,
   "id": "13841fc1",
   "metadata": {},
   "outputs": [],
   "source": [
    "data.head()"
   ]
  },
  {
   "cell_type": "code",
   "execution_count": null,
   "id": "a750946f",
   "metadata": {},
   "outputs": [],
   "source": [
    "data['winner'].value_counts()"
   ]
  },
  {
   "cell_type": "markdown",
   "id": "d156d81c",
   "metadata": {},
   "source": [
    "## The Pandas Plot"
   ]
  },
  {
   "cell_type": "code",
   "execution_count": null,
   "id": "b000d350",
   "metadata": {},
   "outputs": [],
   "source": [
    "import matplotlib.pyplot as plt\n",
    "data['winner'].value_counts().plot(kind='bar')"
   ]
  },
  {
   "cell_type": "code",
   "execution_count": null,
   "id": "c3d8d3d4",
   "metadata": {},
   "outputs": [],
   "source": [
    "data['winner'].value_counts().head(5).plot(kind='bar')"
   ]
  },
  {
   "cell_type": "code",
   "execution_count": null,
   "id": "8dd64063",
   "metadata": {},
   "outputs": [],
   "source": [
    "data['winner'].value_counts().head(5).plot(kind='barh')"
   ]
  },
  {
   "cell_type": "code",
   "execution_count": null,
   "id": "108c75c2",
   "metadata": {},
   "outputs": [],
   "source": [
    "data['toss_decision'].value_counts().plot(kind='pie')"
   ]
  },
  {
   "cell_type": "code",
   "execution_count": null,
   "id": "2bf82e8d",
   "metadata": {},
   "outputs": [],
   "source": [
    "data['win_by_runs'].plot(kind='hist')"
   ]
  },
  {
   "cell_type": "code",
   "execution_count": null,
   "id": "c85af927",
   "metadata": {},
   "outputs": [],
   "source": [
    "myseries = data['winner'].value_counts()"
   ]
  },
  {
   "cell_type": "code",
   "execution_count": null,
   "id": "af2e9544",
   "metadata": {},
   "outputs": [],
   "source": [
    "myseries['Kings XI Punjab']"
   ]
  },
  {
   "cell_type": "code",
   "execution_count": null,
   "id": "2e2a5ee2",
   "metadata": {},
   "outputs": [],
   "source": [
    "(data['team2'].value_counts() + data['team1'].value_counts()).sort_values(ascending=False)"
   ]
  },
  {
   "cell_type": "code",
   "execution_count": null,
   "id": "b890c9e3",
   "metadata": {},
   "outputs": [],
   "source": [
    "data.sort_values('city',ascending=False,inplace=True)"
   ]
  },
  {
   "cell_type": "code",
   "execution_count": null,
   "id": "06341ab2",
   "metadata": {},
   "outputs": [],
   "source": [
    "data"
   ]
  },
  {
   "cell_type": "code",
   "execution_count": null,
   "id": "b07be204",
   "metadata": {},
   "outputs": [],
   "source": [
    "data.sort_values(['city','date'],ascending=[True,False])"
   ]
  },
  {
   "cell_type": "code",
   "execution_count": null,
   "id": "e34b0fc4",
   "metadata": {},
   "outputs": [],
   "source": []
  },
  {
   "cell_type": "code",
   "execution_count": null,
   "id": "30a7c8fd",
   "metadata": {},
   "outputs": [],
   "source": [
    "data = pd.read_csv('matches - matches.csv')"
   ]
  },
  {
   "cell_type": "code",
   "execution_count": null,
   "id": "3cf68bed",
   "metadata": {},
   "outputs": [],
   "source": [
    "data.drop_duplicates(subset = ['city']).shape"
   ]
  },
  {
   "cell_type": "code",
   "execution_count": null,
   "id": "c0c9e8ce",
   "metadata": {},
   "outputs": [],
   "source": [
    "data.drop_duplicates(subset=['city','season']).shape #city and season both have to be common at the same time"
   ]
  },
  {
   "cell_type": "code",
   "execution_count": null,
   "id": "7d606f5f",
   "metadata": {},
   "outputs": [],
   "source": [
    "data.drop_duplicates('season',keep='last')[['season','winner']].sort_values('season')"
   ]
  },
  {
   "cell_type": "code",
   "execution_count": null,
   "id": "c501cb92",
   "metadata": {},
   "outputs": [],
   "source": [
    "company = pd.read_csv('Fortune501.csv',encoding='latin1')\n",
    "company.head(2)"
   ]
  },
  {
   "cell_type": "code",
   "execution_count": null,
   "id": "ae968400",
   "metadata": {},
   "outputs": [],
   "source": [
    "sectors = company.groupby('Sector')"
   ]
  },
  {
   "cell_type": "code",
   "execution_count": null,
   "id": "c885e885",
   "metadata": {},
   "outputs": [],
   "source": [
    "sectors"
   ]
  },
  {
   "cell_type": "code",
   "execution_count": null,
   "id": "ef2d1202",
   "metadata": {},
   "outputs": [],
   "source": [
    "len(company)"
   ]
  },
  {
   "cell_type": "code",
   "execution_count": null,
   "id": "12943e0b",
   "metadata": {},
   "outputs": [],
   "source": [
    "len(sectors)"
   ]
  },
  {
   "cell_type": "code",
   "execution_count": null,
   "id": "f461fcd8",
   "metadata": {},
   "outputs": [],
   "source": [
    "sectors.size().sort_values(ascending=False)"
   ]
  },
  {
   "cell_type": "code",
   "execution_count": null,
   "id": "14a08d74",
   "metadata": {},
   "outputs": [],
   "source": [
    "sectors.last()"
   ]
  },
  {
   "cell_type": "code",
   "execution_count": null,
   "id": "fba18554",
   "metadata": {},
   "outputs": [],
   "source": [
    "sectors.groups"
   ]
  },
  {
   "cell_type": "code",
   "execution_count": null,
   "id": "e38d0e9c",
   "metadata": {},
   "outputs": [],
   "source": [
    "sectors.get_group('Apparel').shape"
   ]
  },
  {
   "cell_type": "code",
   "execution_count": null,
   "id": "a902bddd",
   "metadata": {},
   "outputs": [],
   "source": [
    "sectors.sum()"
   ]
  },
  {
   "cell_type": "code",
   "execution_count": null,
   "id": "6bd716ff",
   "metadata": {},
   "outputs": [],
   "source": [
    "sectors['Revenues'].mean().sort_values(ascending=False)"
   ]
  },
  {
   "cell_type": "code",
   "execution_count": null,
   "id": "c2344f08",
   "metadata": {},
   "outputs": [],
   "source": [
    "delivery = pd.read_csv('deliveries.csv')\n",
    "delivery.head(2)"
   ]
  },
  {
   "cell_type": "code",
   "execution_count": null,
   "id": "9085d534",
   "metadata": {},
   "outputs": [],
   "source": [
    "delivery.head(2)"
   ]
  },
  {
   "cell_type": "code",
   "execution_count": null,
   "id": "1f70e07b",
   "metadata": {},
   "outputs": [],
   "source": [
    "runs = delivery.groupby('batsman')"
   ]
  },
  {
   "cell_type": "code",
   "execution_count": null,
   "id": "fd71fdc0",
   "metadata": {},
   "outputs": [],
   "source": [
    "runs.get_group('V Kohli').shape"
   ]
  },
  {
   "cell_type": "code",
   "execution_count": null,
   "id": "d8dcd51e",
   "metadata": {},
   "outputs": [],
   "source": [
    "runs['batsman_runs'].sum().sort_values(ascending=False).head(10) # Top 10 scorer"
   ]
  },
  {
   "cell_type": "code",
   "execution_count": null,
   "id": "525d3995",
   "metadata": {},
   "outputs": [],
   "source": [
    "mask = delivery['batsman_runs'] == 3\n",
    "new_delivery = delivery[mask]"
   ]
  },
  {
   "cell_type": "code",
   "execution_count": null,
   "id": "e5d6fb5e",
   "metadata": {},
   "outputs": [],
   "source": [
    "new_delivery.shape[0]"
   ]
  },
  {
   "cell_type": "code",
   "execution_count": null,
   "id": "d8a8763b",
   "metadata": {},
   "outputs": [],
   "source": [
    "new_delivery.groupby('batsman')['batsman_runs'].count().sort_values(ascending=False).head(5)"
   ]
  },
  {
   "cell_type": "code",
   "execution_count": null,
   "id": "40993149",
   "metadata": {},
   "outputs": [],
   "source": [
    "vk = delivery[delivery['batsman'] == 'V Kohli']"
   ]
  },
  {
   "cell_type": "code",
   "execution_count": null,
   "id": "22e89b91",
   "metadata": {},
   "outputs": [],
   "source": [
    "vk.groupby('bowling_team')['batsman_runs'].sum().sort_values(ascending=False).head(3)"
   ]
  },
  {
   "cell_type": "code",
   "execution_count": null,
   "id": "0b9a1966",
   "metadata": {},
   "outputs": [],
   "source": [
    "def run_scored(batsman_name):\n",
    "    vk = delivery[delivery['batsman'] == batsman_name]\n",
    "    return vk.groupby('bowling_team')['batsman_runs'].sum().sort_values(ascending=False).index[0]"
   ]
  },
  {
   "cell_type": "code",
   "execution_count": null,
   "id": "98219cf0",
   "metadata": {},
   "outputs": [],
   "source": [
    "run_scored('G Gambhir')"
   ]
  },
  {
   "cell_type": "markdown",
   "id": "d0cf3656",
   "metadata": {},
   "source": [
    "# isin ()\n",
    "\n",
    "## Find the most destruvctive death over batsman in the history of IPL"
   ]
  },
  {
   "cell_type": "code",
   "execution_count": null,
   "id": "3a191370",
   "metadata": {},
   "outputs": [],
   "source": [
    "# Strike Rate (Number of runs/Number of balls played)*100\n",
    "#Min ball played = 200 in over 16-20"
   ]
  },
  {
   "cell_type": "code",
   "execution_count": null,
   "id": "fbc75d98",
   "metadata": {},
   "outputs": [],
   "source": [
    "death_overs = delivery[delivery['over']>15]"
   ]
  },
  {
   "cell_type": "code",
   "execution_count": null,
   "id": "d7929590",
   "metadata": {},
   "outputs": [],
   "source": [
    "all_batsman = death_overs.groupby('batsman')['batsman_runs'].count()\n",
    "x = all_batsman>200\n",
    "batsman_list = all_batsman[x].index.tolist()"
   ]
  },
  {
   "cell_type": "code",
   "execution_count": null,
   "id": "887b08c3",
   "metadata": {},
   "outputs": [],
   "source": [
    "#Runs scored by all these 43 batsman\n",
    "#Balls played by 43 batsman\n",
    "\n",
    "final = delivery[delivery['batsman'].isin(batsman_list)]"
   ]
  },
  {
   "cell_type": "code",
   "execution_count": null,
   "id": "00eb0619",
   "metadata": {},
   "outputs": [],
   "source": [
    "runs = final.groupby('batsman')['batsman_runs'].sum()"
   ]
  },
  {
   "cell_type": "code",
   "execution_count": null,
   "id": "997593fe",
   "metadata": {},
   "outputs": [],
   "source": [
    "balls = final.groupby('batsman')['batsman_runs'].count()"
   ]
  },
  {
   "cell_type": "code",
   "execution_count": null,
   "id": "d3576c1e",
   "metadata": {},
   "outputs": [],
   "source": [
    "sr = (runs/balls)*100"
   ]
  },
  {
   "cell_type": "code",
   "execution_count": null,
   "id": "6cd4b8dd",
   "metadata": {},
   "outputs": [],
   "source": [
    "sr"
   ]
  },
  {
   "cell_type": "markdown",
   "id": "c19b8317",
   "metadata": {},
   "source": [
    "## Merge"
   ]
  },
  {
   "cell_type": "code",
   "execution_count": null,
   "id": "6e0544d6",
   "metadata": {},
   "outputs": [],
   "source": [
    "match = pd.read_csv('match.csv')"
   ]
  },
  {
   "cell_type": "code",
   "execution_count": null,
   "id": "40917a1d",
   "metadata": {},
   "outputs": [],
   "source": [
    "match\n"
   ]
  },
  {
   "cell_type": "code",
   "execution_count": null,
   "id": "b7c2f0b8",
   "metadata": {},
   "outputs": [],
   "source": [
    "data"
   ]
  },
  {
   "cell_type": "code",
   "execution_count": null,
   "id": "3aad3a1b",
   "metadata": {},
   "outputs": [],
   "source": [
    "#Merge\n",
    "\n",
    "new = delivery.merge(match,left_on = 'match_id',right_on = 'id')"
   ]
  },
  {
   "cell_type": "code",
   "execution_count": null,
   "id": "f3d6675c",
   "metadata": {},
   "outputs": [],
   "source": [
    "print(delivery.shape)\n",
    "print(match.shape)"
   ]
  },
  {
   "cell_type": "code",
   "execution_count": null,
   "id": "b7b351df",
   "metadata": {},
   "outputs": [],
   "source": [
    "new.groupby(['season','batsman'])['batsman_runs'].sum().sort_values(ascending=False).reset_index().drop_duplicates(subset='season',keep='first').sort_values('season')[['season','batsman']]"
   ]
  },
  {
   "cell_type": "code",
   "execution_count": null,
   "id": "6a8e786d",
   "metadata": {},
   "outputs": [],
   "source": []
  }
 ],
 "metadata": {
  "kernelspec": {
   "display_name": "Python 3 (ipykernel)",
   "language": "python",
   "name": "python3"
  },
  "language_info": {
   "codemirror_mode": {
    "name": "ipython",
    "version": 3
   },
   "file_extension": ".py",
   "mimetype": "text/x-python",
   "name": "python",
   "nbconvert_exporter": "python",
   "pygments_lexer": "ipython3",
   "version": "3.11.7"
  }
 },
 "nbformat": 4,
 "nbformat_minor": 5
}
